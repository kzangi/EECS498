{
  "nbformat": 4,
  "nbformat_minor": 0,
  "metadata": {
    "colab": {
      "provenance": [],
      "authorship_tag": "ABX9TyNP2JnpZeZT2uLjnCnFr997",
      "include_colab_link": true
    },
    "kernelspec": {
      "name": "python3",
      "display_name": "Python 3"
    },
    "language_info": {
      "name": "python"
    }
  },
  "cells": [
    {
      "cell_type": "markdown",
      "metadata": {
        "id": "view-in-github",
        "colab_type": "text"
      },
      "source": [
        "<a href=\"https://colab.research.google.com/github/kzangi/EECS498/blob/main/Copy_of_utils.ipynb\" target=\"_parent\"><img src=\"https://colab.research.google.com/assets/colab-badge.svg\" alt=\"Open In Colab\"/></a>"
      ]
    },
    {
      "cell_type": "code",
      "execution_count": null,
      "metadata": {
        "colab": {
          "base_uri": "https://localhost:8080/"
        },
        "id": "_I4ELvneG5p2",
        "outputId": "4530c796-941e-48af-f8f4-df3f15ab0693"
      },
      "outputs": [
        {
          "output_type": "stream",
          "name": "stdout",
          "text": [
            "Mounted at /content/drive\n"
          ]
        }
      ],
      "source": [
        "from google.colab import drive\n",
        "drive.mount('/content/drive')"
      ]
    },
    {
      "cell_type": "code",
      "source": [
        "%cd /content/drive/MyDrive/CloneExample/\n",
        "!pwd\n",
        "!dir\n"
      ],
      "metadata": {
        "colab": {
          "base_uri": "https://localhost:8080/"
        },
        "id": "DhGwI3SxH9r6",
        "outputId": "8ef66b20-b36d-49f8-931a-0a9ca7c86b40"
      },
      "execution_count": null,
      "outputs": [
        {
          "output_type": "stream",
          "name": "stdout",
          "text": [
            "/content/drive/MyDrive/CloneExample\n",
            "/content/drive/MyDrive/CloneExample\n",
            "Cloning into 'FavoritePicturesPicasa'...\n",
            "fatal: could not read Username for 'https://github.com': No such device or address\n"
          ]
        }
      ]
    },
    {
      "cell_type": "code",
      "source": [
        "# print(\"This script will move the PICASA favorite pictures in a subfolder to a new subfolder in the FavoritePictures folder\")\n",
        "import os\n",
        "import shutil\n",
        "from pathlib import Path\n",
        "import sys\n",
        "import datetime\n",
        "import glob\n",
        "\n",
        "# Define a function to move the favorite pictures to a new directory\n",
        "def PickFavoritePicturesFcn(dirNAME,cut_off_date):\n",
        "\n",
        "    path = Path(dirNAME);\n",
        "    normalized_path = os.path.normpath(dirNAME)   #\n",
        "    lastDirectory = os.path.basename(normalized_path) # get the last directory in the path\n",
        "    archDIR = str(path.parent.parent)+\"\\\\\"+\"FavoritePictures\\\\\"+lastDirectory  # create a new directory to move the pictures to it\n",
        "    print(\"Favorite pictures will be moved to directory: \", archDIR)\n",
        "\n",
        "\n",
        "    # Create a new directory to move the pictures to it\n",
        "    try:\n",
        "        os.mkdir(archDIR)\n",
        "        print(\"Favorite subdirectory \", archDIR, \" created\")\n",
        "    except FileExistsError:\n",
        "        print(\"Favorite subdirectory \", archDIR, \" already exists\")\n",
        "    except OSError as error:\n",
        "        print(\"Error ==>: could not make the favorite subdirectory\", error)\n",
        "        sys.exit(1)\n",
        "\n",
        "\n",
        "\n",
        "    # copy the *.ini file to the dirName directory\n",
        "    ini_files = glob.glob(os.path.join(dirNAME, \"*.ini\")) + glob.glob(os.path.join(dirNAME, \".*.ini\"))\n",
        "\n",
        "    if len(ini_files) == 0:\n",
        "        print(f'No .ini file was found in {dirNAME}. Will return without copying any files.')\n",
        "        return(3)\n",
        "\n",
        "    # get the last time the  *.ini file was modified and compare it with the cut-off date\n",
        "    ini_file_time = os.path.getmtime(ini_files[0])\n",
        "    ini_file_time = datetime.datetime.fromtimestamp(ini_file_time)\n",
        "    if ini_file_time <  cut_off_date:\n",
        "        print(\"Will skip the directory \", dirNAME, \" because its .ini file is older than the cut-off date\")\n",
        "        return(2)\n",
        "\n",
        "    # Copy each .ini file to the destination directory\n",
        "    copyError = False\n",
        "    for ini_file in ini_files:\n",
        "        try:\n",
        "            shutil.copy(ini_file, archDIR)\n",
        "            print(f'The {os.path.basename(ini_file)} file has been copied to {archDIR}')\n",
        "            thisINIfile = os.path.basename(ini_file)\n",
        "            # file_path = archDIR + \"\\\\\" + thisINIfile\n",
        "            fileINI_path = os.path.join(archDIR, thisINIfile)\n",
        "            lines = []\n",
        "            # Read the *.ini file and place each line into a list of strings\n",
        "            with open(fileINI_path, 'r') as f:\n",
        "                lines = f.readlines()\n",
        "            print(f'There are {len(lines)} lines in the .picasa file {fileINI_path}')\n",
        "        except shutil.Error as e:\n",
        "            print(f\"Error copying {os.path.basename(ini_file)} file: {e}\")\n",
        "            return(1)\n",
        "        except OSError as e:\n",
        "            print(f\"OS error occurred while copying {os.path.basename(ini_file)} file: {e}\")\n",
        "            return(1)\n",
        "\n",
        "\n",
        "\n",
        "    # Print the lines of the .picasa.ini file\n",
        "    # print('The lines of the .picasa.ini file are:')\n",
        "    # for i, line in enumerate(lines, start=1):\n",
        "    #    print(f'Line number {i}: {line}', end='')\n",
        "\n",
        "\n",
        "    # Find the linesF with 'star=yes' (favorite pictures) and move the picture file associated with it to the archDIR directory\n",
        "    iStarPicture = 0\n",
        "    iCopied      = 0\n",
        "    i = 0\n",
        "    for line in lines:\n",
        "        i += 1\n",
        "        # print('Line number', i , ': ' ,line, end = '')\n",
        "        if line == 'star=yes\\n' :\n",
        "            # print('Found start=yes on line number', i)\n",
        "            iStarPicture = iStarPicture + 1;\n",
        "            backIndex=1\n",
        "            while lines[i-backIndex][0] != '[':\n",
        "                backIndex += 1\n",
        "            # print('The picture file associated with this star is: ', lines[i-backIndex][1:len(lines[i-backIndex])-2])\n",
        "            picture_file = lines[i - backIndex][1:len(lines[i - backIndex]) - 2]\n",
        "            this_picture_Fullfile = os.path.join(dirNAME, picture_file)\n",
        "            # Copy this picture file to the archDIR directory\n",
        "            try:\n",
        "                shutil.copy(this_picture_Fullfile, archDIR)\n",
        "                iCopied = iCopied + 1\n",
        "                # print('The picture file', this_picture_Fullfile, 'has been copied to', archDIR)\n",
        "            except FileNotFoundError as e:\n",
        "                print(f\"File {this_picture_Fullfile} not found error: {e}\")\n",
        "            except shutil.Error as e:\n",
        "                print(f\"Error copying picture file {this_picture_Fullfile}: {e}\")\n",
        "            except OSError as e:\n",
        "                print(f\"OS error occurred while copying picture file {this_picture_Fullfile}: {e}\")\n",
        "\n",
        "\n",
        "            # shutil.copy(dirNAME+\"\\\\\"+lines[i-backIndex][1:len(lines[i-backIndex])-2], archDIR)\n",
        "            # print('The picture file',  lines[i-backIndex][1:len(lines[i-backIndex])-2], ' has been copied to ', archDIR)\n",
        "    f.close()\n",
        "    print('There were', iStarPicture, 'favorite pictures in file', fileINI_path, 'and ', iCopied, 'of them were copied to the directory', archDIR)\n",
        "    # print('DONE \\n')\n",
        "    return(0)\n",
        "# End of PickFavoritePicturesFcn.py\n",
        "\n",
        "\n"
      ],
      "metadata": {
        "id": "WIYiCPmGI7LQ"
      },
      "execution_count": null,
      "outputs": []
    }
  ]
}